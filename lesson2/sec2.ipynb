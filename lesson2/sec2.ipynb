{
 "cells": [
  {
   "cell_type": "code",
   "execution_count": 1,
   "metadata": {},
   "outputs": [],
   "source": [
    "import os\n",
    "\n",
    "import tensorflow.keras as keras\n",
    "import numpy as np\n",
    "import matplotlib.pyplot as plt\n",
    "\n",
    "from tensorflow.keras.layers import Dense, Conv2D, MaxPooling2D, Flatten, Input, Activation, add, Add, Dropout, BatchNormalization\n",
    "from tensorflow.keras.callbacks import EarlyStopping\n",
    "from tensorflow.keras.models import Sequential, Model\n",
    "from tensorflow.keras.datasets import cifar10\n",
    "from tensorflow.keras.datasets import fashion_mnist\n",
    "from tensorflow.keras.utils import to_categorical\n",
    "from sklearn.model_selection import train_test_split\n",
    "\n",
    "from IPython.display import SVG\n",
    "from tensorflow.python.keras.utils.vis_utils import model_to_dot\n",
    "\n",
    "random_state = 42"
   ]
  },
  {
   "cell_type": "markdown",
   "metadata": {},
   "source": [
    "# Fasion MNISTをCNNでクラス分類"
   ]
  },
  {
   "cell_type": "code",
   "execution_count": 2,
   "metadata": {},
   "outputs": [],
   "source": [
    "(x_train, y_train), (x_test, y_test) = fashion_mnist.load_data()"
   ]
  },
  {
   "cell_type": "code",
   "execution_count": 3,
   "metadata": {},
   "outputs": [
    {
     "data": {
      "text/plain": [
       "<matplotlib.image.AxesImage at 0x7f68cd9c95c0>"
      ]
     },
     "execution_count": 3,
     "metadata": {},
     "output_type": "execute_result"
    },
    {
     "data": {
      "text/plain": [
       "<matplotlib.image.AxesImage at 0x7f68cd953b00>"
      ]
     },
     "execution_count": 3,
     "metadata": {},
     "output_type": "execute_result"
    },
    {
     "data": {
      "text/plain": [
       "<matplotlib.image.AxesImage at 0x7f68cd958e80>"
      ]
     },
     "execution_count": 3,
     "metadata": {},
     "output_type": "execute_result"
    },
    {
     "data": {
      "text/plain": [
       "<matplotlib.image.AxesImage at 0x7f68cea00358>"
      ]
     },
     "execution_count": 3,
     "metadata": {},
     "output_type": "execute_result"
    },
    {
     "data": {
      "text/plain": [
       "<matplotlib.image.AxesImage at 0x7f68cdf366a0>"
      ]
     },
     "execution_count": 3,
     "metadata": {},
     "output_type": "execute_result"
    },
    {
     "data": {
      "text/plain": [
       "<matplotlib.image.AxesImage at 0x7f68cdda2be0>"
      ]
     },
     "execution_count": 3,
     "metadata": {},
     "output_type": "execute_result"
    },
    {
     "data": {
      "text/plain": [
       "<matplotlib.image.AxesImage at 0x7f68cddd4160>"
      ]
     },
     "execution_count": 3,
     "metadata": {},
     "output_type": "execute_result"
    },
    {
     "data": {
      "text/plain": [
       "<matplotlib.image.AxesImage at 0x7f68cddd4cf8>"
      ]
     },
     "execution_count": 3,
     "metadata": {},
     "output_type": "execute_result"
    },
    {
     "data": {
      "text/plain": [
       "<matplotlib.image.AxesImage at 0x7f68cd8debe0>"
      ]
     },
     "execution_count": 3,
     "metadata": {},
     "output_type": "execute_result"
    },
    {
     "data": {
      "image/png": "[encoded data removed]",
      "text/plain": [
       "<Figure size 900x1500 with 9 Axes>"
      ]
     },
     "metadata": {
      "image/png": {
       "height": 119,
       "width": 923
      }
     },
     "output_type": "display_data"
    }
   ],
   "source": [
    "fig = plt.figure(figsize=(9, 15))\n",
    "fig.subplots_adjust(left=0, right=1, bottom=0, top=0.5, hspace=0.05, wspace=0.05)\n",
    "\n",
    "for i in range(9):\n",
    "    ax = fig.add_subplot(1, 9, i+1, xticks=[], yticks=[])\n",
    "    ax.imshow(x_train[i], cmap='gray')"
   ]
  },
  {
   "cell_type": "code",
   "execution_count": 4,
   "metadata": {},
   "outputs": [
    {
     "data": {
      "text/plain": [
       "(60000, 28, 28)"
      ]
     },
     "execution_count": 4,
     "metadata": {},
     "output_type": "execute_result"
    }
   ],
   "source": [
    "x_train.shape"
   ]
  },
  {
   "cell_type": "code",
   "execution_count": 8,
   "metadata": {},
   "outputs": [],
   "source": [
    "x_train = x_train.reshape((x_train.shape[0], 28, 28, 1)) / 255\n",
    "x_test = x_test.reshape((x_test.shape[0], 28, 28, 1)) / 255\n",
    "y_train = to_categorical(y_train)\n",
    "y_test = to_categorical(y_test)"
   ]
  },
  {
   "cell_type": "markdown",
   "metadata": {},
   "source": [
    "Lesson1の多層パーセプトロンでは入力を (バッチサイズ、画素数) の2次元テンソルとして扱いましたが、 \n",
    "CNNでは2次元の画像として処理していくために4次元テンソル (バッチサイズ、縦の画素数、横の画素数、チャンネル数)として扱います。 \n",
    "チャンネル数は白黒画像の場合は1、 カラー画像の場合はRGBで3です。"
   ]
  },
  {
   "cell_type": "code",
   "execution_count": 19,
   "metadata": {},
   "outputs": [
    {
     "name": "stdout",
     "output_type": "stream",
     "text": [
      "WARNING:tensorflow:From /opt/conda/lib/python3.7/site-packages/tensorflow/python/ops/resource_variable_ops.py:435: colocate_with (from tensorflow.python.framework.ops) is deprecated and will be removed in a future version.\n",
      "Instructions for updating:\n",
      "Colocations handled automatically by placer.\n"
     ]
    }
   ],
   "source": [
    "model = Sequential()\n",
    "\n",
    "# 入力画像 28x28x1 (縦の画素数)x(横の画素数)x(チャンネル数)\n",
    "model.add(Conv2D(16, kernel_size=(5, 5), activation='relu',\n",
    "                kernel_initializer='he_normal', input_shape=(28, 28, 1)))  #28×28×1 -> 24×24×16\n",
    "model.add(MaxPooling2D(pool_size=(2, 2)))  #24×24×16 -> 12×12×16\n",
    "model.add(Conv2D(64, kernel_size=(5, 5), activation='relu',\n",
    "                kernel_initializer='he_normal'))  #12×12×16 -> 8×8×64\n",
    "model.add(MaxPooling2D(pool_size=(2, 2)))  #8×8×64 -> 4×4×64 \n",
    "\n",
    "model.add(Flatten())  #4×4×64  -> 1024\n",
    "model.add(Dense(10, activation='softmax'))  #1024 -> 10\n",
    "\n",
    "model.compile(\n",
    "    loss=keras.losses.categorical_crossentropy,\n",
    "    optimizer='adam',\n",
    "    metrics=['accuracy']\n",
    ")"
   ]
  },
  {
   "cell_type": "code",
   "execution_count": 23,
   "metadata": {},
   "outputs": [
    {
     "data": {
      "image/svg+xml": [
       "<svg height=\"543pt\" viewBox=\"0.00 0.00 397.00 543.00\" width=\"397pt\" xmlns=\"http://www.w3.org/2000/svg\" xmlns:xlink=\"http://www.w3.org/1999/xlink\">\n",
       "<g class=\"graph\" id=\"graph0\" transform=\"scale(1 1) rotate(0) translate(4 539)\">\n",
       "<title>G</title>\n",
       "<polygon fill=\"#ffffff\" points=\"-4,4 -4,-539 393,-539 393,4 -4,4\" stroke=\"transparent\"/>\n",
       "<!-- 140088223614736 -->\n",
       "<g class=\"node\" id=\"node1\">\n",
       "<title>140088223614736</title>\n",
       "<polygon fill=\"none\" points=\"44,-415.5 44,-461.5 345,-461.5 345,-415.5 44,-415.5\" stroke=\"#000000\"/>\n",
       "<text fill=\"#000000\" font-family=\"Times,serif\" font-size=\"14.00\" text-anchor=\"middle\" x=\"103\" y=\"-434.8\">conv2d: Conv2D</text>\n",
       "<polyline fill=\"none\" points=\"162,-415.5 162,-461.5 \" stroke=\"#000000\"/>\n",
       "<text fill=\"#000000\" font-family=\"Times,serif\" font-size=\"14.00\" text-anchor=\"middle\" x=\"191\" y=\"-446.3\">input:</text>\n",
       "<polyline fill=\"none\" points=\"162,-438.5 220,-438.5 \" stroke=\"#000000\"/>\n",
       "<text fill=\"#000000\" font-family=\"Times,serif\" font-size=\"14.00\" text-anchor=\"middle\" x=\"191\" y=\"-423.3\">output:</text>\n",
       "<polyline fill=\"none\" points=\"220,-415.5 220,-461.5 \" stroke=\"#000000\"/>\n",
       "<text fill=\"#000000\" font-family=\"Times,serif\" font-size=\"14.00\" text-anchor=\"middle\" x=\"282.5\" y=\"-446.3\">(None, 28, 28, 1)</text>\n",
       "<polyline fill=\"none\" points=\"220,-438.5 345,-438.5 \" stroke=\"#000000\"/>\n",
       "<text fill=\"#000000\" font-family=\"Times,serif\" font-size=\"14.00\" text-anchor=\"middle\" x=\"282.5\" y=\"-423.3\">(None, 24, 24, 16)</text>\n",
       "</g>\n",
       "<!-- 140088223613280 -->\n",
       "<g class=\"node\" id=\"node2\">\n",
       "<title>140088223613280</title>\n",
       "<polygon fill=\"none\" points=\"0,-332.5 0,-378.5 389,-378.5 389,-332.5 0,-332.5\" stroke=\"#000000\"/>\n",
       "<text fill=\"#000000\" font-family=\"Times,serif\" font-size=\"14.00\" text-anchor=\"middle\" x=\"103\" y=\"-351.8\">max_pooling2d: MaxPooling2D</text>\n",
       "<polyline fill=\"none\" points=\"206,-332.5 206,-378.5 \" stroke=\"#000000\"/>\n",
       "<text fill=\"#000000\" font-family=\"Times,serif\" font-size=\"14.00\" text-anchor=\"middle\" x=\"235\" y=\"-363.3\">input:</text>\n",
       "<polyline fill=\"none\" points=\"206,-355.5 264,-355.5 \" stroke=\"#000000\"/>\n",
       "<text fill=\"#000000\" font-family=\"Times,serif\" font-size=\"14.00\" text-anchor=\"middle\" x=\"235\" y=\"-340.3\">output:</text>\n",
       "<polyline fill=\"none\" points=\"264,-332.5 264,-378.5 \" stroke=\"#000000\"/>\n",
       "<text fill=\"#000000\" font-family=\"Times,serif\" font-size=\"14.00\" text-anchor=\"middle\" x=\"326.5\" y=\"-363.3\">(None, 24, 24, 16)</text>\n",
       "<polyline fill=\"none\" points=\"264,-355.5 389,-355.5 \" stroke=\"#000000\"/>\n",
       "<text fill=\"#000000\" font-family=\"Times,serif\" font-size=\"14.00\" text-anchor=\"middle\" x=\"326.5\" y=\"-340.3\">(None, 12, 12, 16)</text>\n",
       "</g>\n",
       "<!-- 140088223614736&#45;&gt;140088223613280 -->\n",
       "<g class=\"edge\" id=\"edge2\">\n",
       "<title>140088223614736-&gt;140088223613280</title>\n",
       "<path d=\"M194.5,-415.3799C194.5,-407.1745 194.5,-397.7679 194.5,-388.8786\" fill=\"none\" stroke=\"#000000\"/>\n",
       "<polygon fill=\"#000000\" points=\"198.0001,-388.784 194.5,-378.784 191.0001,-388.784 198.0001,-388.784\" stroke=\"#000000\"/>\n",
       "</g>\n",
       "<!-- 140088223150032 -->\n",
       "<g class=\"node\" id=\"node3\">\n",
       "<title>140088223150032</title>\n",
       "<polygon fill=\"none\" points=\"36.5,-249.5 36.5,-295.5 352.5,-295.5 352.5,-249.5 36.5,-249.5\" stroke=\"#000000\"/>\n",
       "<text fill=\"#000000\" font-family=\"Times,serif\" font-size=\"14.00\" text-anchor=\"middle\" x=\"103\" y=\"-268.8\">conv2d_1: Conv2D</text>\n",
       "<polyline fill=\"none\" points=\"169.5,-249.5 169.5,-295.5 \" stroke=\"#000000\"/>\n",
       "<text fill=\"#000000\" font-family=\"Times,serif\" font-size=\"14.00\" text-anchor=\"middle\" x=\"198.5\" y=\"-280.3\">input:</text>\n",
       "<polyline fill=\"none\" points=\"169.5,-272.5 227.5,-272.5 \" stroke=\"#000000\"/>\n",
       "<text fill=\"#000000\" font-family=\"Times,serif\" font-size=\"14.00\" text-anchor=\"middle\" x=\"198.5\" y=\"-257.3\">output:</text>\n",
       "<polyline fill=\"none\" points=\"227.5,-249.5 227.5,-295.5 \" stroke=\"#000000\"/>\n",
       "<text fill=\"#000000\" font-family=\"Times,serif\" font-size=\"14.00\" text-anchor=\"middle\" x=\"290\" y=\"-280.3\">(None, 12, 12, 16)</text>\n",
       "<polyline fill=\"none\" points=\"227.5,-272.5 352.5,-272.5 \" stroke=\"#000000\"/>\n",
       "<text fill=\"#000000\" font-family=\"Times,serif\" font-size=\"14.00\" text-anchor=\"middle\" x=\"290\" y=\"-257.3\">(None, 8, 8, 64)</text>\n",
       "</g>\n",
       "<!-- 140088223613280&#45;&gt;140088223150032 -->\n",
       "<g class=\"edge\" id=\"edge3\">\n",
       "<title>140088223613280-&gt;140088223150032</title>\n",
       "<path d=\"M194.5,-332.3799C194.5,-324.1745 194.5,-314.7679 194.5,-305.8786\" fill=\"none\" stroke=\"#000000\"/>\n",
       "<polygon fill=\"#000000\" points=\"198.0001,-305.784 194.5,-295.784 191.0001,-305.784 198.0001,-305.784\" stroke=\"#000000\"/>\n",
       "</g>\n",
       "<!-- 140088223805904 -->\n",
       "<g class=\"node\" id=\"node4\">\n",
       "<title>140088223805904</title>\n",
       "<polygon fill=\"none\" points=\"0,-166.5 0,-212.5 389,-212.5 389,-166.5 0,-166.5\" stroke=\"#000000\"/>\n",
       "<text fill=\"#000000\" font-family=\"Times,serif\" font-size=\"14.00\" text-anchor=\"middle\" x=\"110.5\" y=\"-185.8\">max_pooling2d_1: MaxPooling2D</text>\n",
       "<polyline fill=\"none\" points=\"221,-166.5 221,-212.5 \" stroke=\"#000000\"/>\n",
       "<text fill=\"#000000\" font-family=\"Times,serif\" font-size=\"14.00\" text-anchor=\"middle\" x=\"250\" y=\"-197.3\">input:</text>\n",
       "<polyline fill=\"none\" points=\"221,-189.5 279,-189.5 \" stroke=\"#000000\"/>\n",
       "<text fill=\"#000000\" font-family=\"Times,serif\" font-size=\"14.00\" text-anchor=\"middle\" x=\"250\" y=\"-174.3\">output:</text>\n",
       "<polyline fill=\"none\" points=\"279,-166.5 279,-212.5 \" stroke=\"#000000\"/>\n",
       "<text fill=\"#000000\" font-family=\"Times,serif\" font-size=\"14.00\" text-anchor=\"middle\" x=\"334\" y=\"-197.3\">(None, 8, 8, 64)</text>\n",
       "<polyline fill=\"none\" points=\"279,-189.5 389,-189.5 \" stroke=\"#000000\"/>\n",
       "<text fill=\"#000000\" font-family=\"Times,serif\" font-size=\"14.00\" text-anchor=\"middle\" x=\"334\" y=\"-174.3\">(None, 4, 4, 64)</text>\n",
       "</g>\n",
       "<!-- 140088223150032&#45;&gt;140088223805904 -->\n",
       "<g class=\"edge\" id=\"edge4\">\n",
       "<title>140088223150032-&gt;140088223805904</title>\n",
       "<path d=\"M194.5,-249.3799C194.5,-241.1745 194.5,-231.7679 194.5,-222.8786\" fill=\"none\" stroke=\"#000000\"/>\n",
       "<polygon fill=\"#000000\" points=\"198.0001,-222.784 194.5,-212.784 191.0001,-222.784 198.0001,-222.784\" stroke=\"#000000\"/>\n",
       "</g>\n",
       "<!-- 140088223778128 -->\n",
       "<g class=\"node\" id=\"node5\">\n",
       "<title>140088223778128</title>\n",
       "<polygon fill=\"none\" points=\"61.5,-83.5 61.5,-129.5 327.5,-129.5 327.5,-83.5 61.5,-83.5\" stroke=\"#000000\"/>\n",
       "<text fill=\"#000000\" font-family=\"Times,serif\" font-size=\"14.00\" text-anchor=\"middle\" x=\"110.5\" y=\"-102.8\">flatten: Flatten</text>\n",
       "<polyline fill=\"none\" points=\"159.5,-83.5 159.5,-129.5 \" stroke=\"#000000\"/>\n",
       "<text fill=\"#000000\" font-family=\"Times,serif\" font-size=\"14.00\" text-anchor=\"middle\" x=\"188.5\" y=\"-114.3\">input:</text>\n",
       "<polyline fill=\"none\" points=\"159.5,-106.5 217.5,-106.5 \" stroke=\"#000000\"/>\n",
       "<text fill=\"#000000\" font-family=\"Times,serif\" font-size=\"14.00\" text-anchor=\"middle\" x=\"188.5\" y=\"-91.3\">output:</text>\n",
       "<polyline fill=\"none\" points=\"217.5,-83.5 217.5,-129.5 \" stroke=\"#000000\"/>\n",
       "<text fill=\"#000000\" font-family=\"Times,serif\" font-size=\"14.00\" text-anchor=\"middle\" x=\"272.5\" y=\"-114.3\">(None, 4, 4, 64)</text>\n",
       "<polyline fill=\"none\" points=\"217.5,-106.5 327.5,-106.5 \" stroke=\"#000000\"/>\n",
       "<text fill=\"#000000\" font-family=\"Times,serif\" font-size=\"14.00\" text-anchor=\"middle\" x=\"272.5\" y=\"-91.3\">(None, 1024)</text>\n",
       "</g>\n",
       "<!-- 140088223805904&#45;&gt;140088223778128 -->\n",
       "<g class=\"edge\" id=\"edge5\">\n",
       "<title>140088223805904-&gt;140088223778128</title>\n",
       "<path d=\"M194.5,-166.3799C194.5,-158.1745 194.5,-148.7679 194.5,-139.8786\" fill=\"none\" stroke=\"#000000\"/>\n",
       "<polygon fill=\"#000000\" points=\"198.0001,-139.784 194.5,-129.784 191.0001,-139.784 198.0001,-139.784\" stroke=\"#000000\"/>\n",
       "</g>\n",
       "<!-- 140088223777960 -->\n",
       "<g class=\"node\" id=\"node6\">\n",
       "<title>140088223777960</title>\n",
       "<polygon fill=\"none\" points=\"72,-.5 72,-46.5 317,-46.5 317,-.5 72,-.5\" stroke=\"#000000\"/>\n",
       "<text fill=\"#000000\" font-family=\"Times,serif\" font-size=\"14.00\" text-anchor=\"middle\" x=\"118\" y=\"-19.8\">dense: Dense</text>\n",
       "<polyline fill=\"none\" points=\"164,-.5 164,-46.5 \" stroke=\"#000000\"/>\n",
       "<text fill=\"#000000\" font-family=\"Times,serif\" font-size=\"14.00\" text-anchor=\"middle\" x=\"193\" y=\"-31.3\">input:</text>\n",
       "<polyline fill=\"none\" points=\"164,-23.5 222,-23.5 \" stroke=\"#000000\"/>\n",
       "<text fill=\"#000000\" font-family=\"Times,serif\" font-size=\"14.00\" text-anchor=\"middle\" x=\"193\" y=\"-8.3\">output:</text>\n",
       "<polyline fill=\"none\" points=\"222,-.5 222,-46.5 \" stroke=\"#000000\"/>\n",
       "<text fill=\"#000000\" font-family=\"Times,serif\" font-size=\"14.00\" text-anchor=\"middle\" x=\"269.5\" y=\"-31.3\">(None, 1024)</text>\n",
       "<polyline fill=\"none\" points=\"222,-23.5 317,-23.5 \" stroke=\"#000000\"/>\n",
       "<text fill=\"#000000\" font-family=\"Times,serif\" font-size=\"14.00\" text-anchor=\"middle\" x=\"269.5\" y=\"-8.3\">(None, 10)</text>\n",
       "</g>\n",
       "<!-- 140088223778128&#45;&gt;140088223777960 -->\n",
       "<g class=\"edge\" id=\"edge6\">\n",
       "<title>140088223778128-&gt;140088223777960</title>\n",
       "<path d=\"M194.5,-83.3799C194.5,-75.1745 194.5,-65.7679 194.5,-56.8786\" fill=\"none\" stroke=\"#000000\"/>\n",
       "<polygon fill=\"#000000\" points=\"198.0001,-56.784 194.5,-46.784 191.0001,-56.784 198.0001,-56.784\" stroke=\"#000000\"/>\n",
       "</g>\n",
       "<!-- 140088223809432 -->\n",
       "<g class=\"node\" id=\"node7\">\n",
       "<title>140088223809432</title>\n",
       "<polygon fill=\"none\" points=\"130,-498.5 130,-534.5 259,-534.5 259,-498.5 130,-498.5\" stroke=\"#000000\"/>\n",
       "<text fill=\"#000000\" font-family=\"Times,serif\" font-size=\"14.00\" text-anchor=\"middle\" x=\"194.5\" y=\"-512.8\">140088223809432</text>\n",
       "</g>\n",
       "<!-- 140088223809432&#45;&gt;140088223614736 -->\n",
       "<g class=\"edge\" id=\"edge1\">\n",
       "<title>140088223809432-&gt;140088223614736</title>\n",
       "<path d=\"M194.5,-498.4092C194.5,-490.4308 194.5,-480.795 194.5,-471.606\" fill=\"none\" stroke=\"#000000\"/>\n",
       "<polygon fill=\"#000000\" points=\"198.0001,-471.5333 194.5,-461.5333 191.0001,-471.5334 198.0001,-471.5333\" stroke=\"#000000\"/>\n",
       "</g>\n",
       "</g>\n",
       "</svg>"
      ],
      "text/plain": [
       "<IPython.core.display.SVG object>"
      ]
     },
     "execution_count": 23,
     "metadata": {},
     "output_type": "execute_result"
    }
   ],
   "source": [
    "SVG(model_to_dot(model, show_shapes=True).create(prog='dot', format='svg'))"
   ]
  },
  {
   "cell_type": "code",
   "execution_count": 24,
   "metadata": {},
   "outputs": [
    {
     "name": "stdout",
     "output_type": "stream",
     "text": [
      "Train on 60000 samples, validate on 10000 samples\n",
      "WARNING:tensorflow:From /opt/conda/lib/python3.7/site-packages/tensorflow/python/ops/math_ops.py:3066: to_int32 (from tensorflow.python.ops.math_ops) is deprecated and will be removed in a future version.\n",
      "Instructions for updating:\n",
      "Use tf.cast instead.\n",
      "Epoch 1/100\n",
      "60000/60000 [==============================] - 42s 702us/sample - loss: 0.5428 - acc: 0.8049 - val_loss: 0.4331 - val_acc: 0.8383\n",
      "Epoch 2/100\n",
      "60000/60000 [==============================] - 34s 562us/sample - loss: 0.3536 - acc: 0.8745 - val_loss: 0.3446 - val_acc: 0.8769\n",
      "Epoch 3/100\n",
      "60000/60000 [==============================] - 37s 619us/sample - loss: 0.3061 - acc: 0.8903 - val_loss: 0.3397 - val_acc: 0.8768\n",
      "Epoch 4/100\n",
      "60000/60000 [==============================] - 43s 721us/sample - loss: 0.2786 - acc: 0.9000 - val_loss: 0.3118 - val_acc: 0.8912\n",
      "Epoch 5/100\n",
      "60000/60000 [==============================] - 40s 670us/sample - loss: 0.2552 - acc: 0.9093 - val_loss: 0.3155 - val_acc: 0.8831\n",
      "Epoch 00005: early stopping\n"
     ]
    },
    {
     "data": {
      "text/plain": [
       "<tensorflow.python.keras.callbacks.History at 0x7f68d500b160>"
      ]
     },
     "execution_count": 24,
     "metadata": {},
     "output_type": "execute_result"
    }
   ],
   "source": [
    "early_stopping = EarlyStopping(patience=1, verbose=1)\n",
    "model.fit(x=x_train, y=y_train, batch_size=128, epochs=100, verbose=1,\n",
    "         validation_data=(x_test, y_test), callbacks=[early_stopping])"
   ]
  },
  {
   "cell_type": "code",
   "execution_count": 25,
   "metadata": {},
   "outputs": [
    {
     "name": "stdout",
     "output_type": "stream",
     "text": [
      "Test loss:  0.3154891956806183\n",
      "Test accuracy:  0.8831\n"
     ]
    }
   ],
   "source": [
    "# 性能評価\n",
    "score = model.evaluate(x_test, y_test, verbose=0)\n",
    "print('Test loss: ', score[0])\n",
    "print('Test accuracy: ', score[1])"
   ]
  },
  {
   "cell_type": "markdown",
   "metadata": {},
   "source": [
    "**Observation**\n",
    "- MLPでの性能は以下\n",
    "    - Test loss:  0.3261532645702362\n",
    "    - Test accuracy:  0.8842\n",
    "- 性能が向上してはいけない。early_stoppingしたから?"
   ]
  },
  {
   "cell_type": "markdown",
   "metadata": {},
   "source": [
    "# CIFAR10のデータをCNNでクラス分類"
   ]
  },
  {
   "cell_type": "code",
   "execution_count": 2,
   "metadata": {},
   "outputs": [],
   "source": [
    "(x_train, y_train), (x_test, y_test) = cifar10.load_data()"
   ]
  },
  {
   "cell_type": "code",
   "execution_count": 3,
   "metadata": {},
   "outputs": [
    {
     "data": {
      "text/plain": [
       "(50000, 32, 32, 3)"
      ]
     },
     "execution_count": 3,
     "metadata": {},
     "output_type": "execute_result"
    }
   ],
   "source": [
    "x_train.shape"
   ]
  },
  {
   "cell_type": "code",
   "execution_count": 4,
   "metadata": {},
   "outputs": [],
   "source": [
    "x_train = x_train.astype('float32') / 255\n",
    "y_train = np.eye(10)[y_train.astype('int32').flatten()]\n",
    "\n",
    "x_test = x_test.astype('float32') / 255\n",
    "y_test = np.eye(10)[y_test.astype('int32').flatten()]\n",
    "\n",
    "x_train, x_valid, y_train, y_valid = train_test_split(\n",
    "    x_train, y_train, test_size=10000)"
   ]
  },
  {
   "cell_type": "code",
   "execution_count": 6,
   "metadata": {},
   "outputs": [
    {
     "data": {
      "text/plain": [
       "<matplotlib.image.AxesImage at 0x7f7502c77ac8>"
      ]
     },
     "execution_count": 6,
     "metadata": {},
     "output_type": "execute_result"
    },
    {
     "data": {
      "text/plain": [
       "<matplotlib.image.AxesImage at 0x7f7502cad2e8>"
      ]
     },
     "execution_count": 6,
     "metadata": {},
     "output_type": "execute_result"
    },
    {
     "data": {
      "text/plain": [
       "<matplotlib.image.AxesImage at 0x7f7502c53b00>"
      ]
     },
     "execution_count": 6,
     "metadata": {},
     "output_type": "execute_result"
    },
    {
     "data": {
      "text/plain": [
       "<matplotlib.image.AxesImage at 0x7f7502c03358>"
      ]
     },
     "execution_count": 6,
     "metadata": {},
     "output_type": "execute_result"
    },
    {
     "data": {
      "text/plain": [
       "<matplotlib.image.AxesImage at 0x7f7502c2ab70>"
      ]
     },
     "execution_count": 6,
     "metadata": {},
     "output_type": "execute_result"
    },
    {
     "data": {
      "text/plain": [
       "<matplotlib.image.AxesImage at 0x7f7502bdb3c8>"
      ]
     },
     "execution_count": 6,
     "metadata": {},
     "output_type": "execute_result"
    },
    {
     "data": {
      "text/plain": [
       "<matplotlib.image.AxesImage at 0x7f7502b81ba8>"
      ]
     },
     "execution_count": 6,
     "metadata": {},
     "output_type": "execute_result"
    },
    {
     "data": {
      "text/plain": [
       "<matplotlib.image.AxesImage at 0x7f7502bb3438>"
      ]
     },
     "execution_count": 6,
     "metadata": {},
     "output_type": "execute_result"
    },
    {
     "data": {
      "text/plain": [
       "<matplotlib.image.AxesImage at 0x7f7502b58c50>"
      ]
     },
     "execution_count": 6,
     "metadata": {},
     "output_type": "execute_result"
    },
    {
     "data": {
      "image/png": "[encoded data removed]",
      "text/plain": [
       "<Figure size 900x1500 with 9 Axes>"
      ]
     },
     "metadata": {
      "image/png": {
       "height": 119,
       "width": 923
      }
     },
     "output_type": "display_data"
    }
   ],
   "source": [
    "fig = plt.figure(figsize=(9, 15))\n",
    "fig.subplots_adjust(left=0, right=1, bottom=0, top=0.5, hspace=0.05,\n",
    "                    wspace=0.05)\n",
    "\n",
    "for i in range(9):\n",
    "    ax = fig.add_subplot(1, 9, i + 1, xticks=[], yticks=[])\n",
    "    ax.imshow(x_train[i])"
   ]
  },
  {
   "cell_type": "code",
   "execution_count": 7,
   "metadata": {},
   "outputs": [
    {
     "name": "stdout",
     "output_type": "stream",
     "text": [
      "WARNING:tensorflow:From /opt/conda/lib/python3.7/site-packages/tensorflow/python/ops/resource_variable_ops.py:435: colocate_with (from tensorflow.python.framework.ops) is deprecated and will be removed in a future version.\n",
      "Instructions for updating:\n",
      "Colocations handled automatically by placer.\n"
     ]
    }
   ],
   "source": [
    "model = Sequential()\n",
    "\n",
    "model.add(Conv2D(6, kernel_size=(5, 5), activation='relu',\n",
    "                 kernel_initializer='he_normal', input_shape=(32, 32, 3)))  # 32x32x3 -> 28x28x6\n",
    "model.add(MaxPooling2D(pool_size=(2, 2)))  # 28x28x6 -> 14x14x6\n",
    "model.add(Conv2D(16, kernel_size=(5, 5), activation='relu',\n",
    "                 kernel_initializer='he_normal'))  # 14x14x6 -> 10x10x16\n",
    "model.add(MaxPooling2D(pool_size=(2, 2)))  # 10x10x16 -> 5x5x16\n",
    "\n",
    "model.add(Flatten())  # 5x5x16 -> 400\n",
    "model.add(Dense(120, activation='relu',\n",
    "                kernel_initializer='he_normal'))  # 400 ->120\n",
    "model.add(Dense(84, activation='relu', kernel_initializer='he_normal'))  # 120 ->84\n",
    "model.add(Dense(10, activation='softmax'))  # 84 ->10\n",
    "\n",
    "model.compile(\n",
    "    loss=keras.losses.categorical_crossentropy,\n",
    "    optimizer='adam',\n",
    "    metrics=['accuracy']\n",
    ")"
   ]
  },
  {
   "cell_type": "code",
   "execution_count": 8,
   "metadata": {},
   "outputs": [
    {
     "data": {
      "image/svg+xml": [
       "<svg height=\"629pt\" viewBox=\"0.00 0.00 229.00 629.00\" width=\"229pt\" xmlns=\"http://www.w3.org/2000/svg\" xmlns:xlink=\"http://www.w3.org/1999/xlink\">\n",
       "<g class=\"graph\" id=\"graph0\" transform=\"scale(1 1) rotate(0) translate(4 625)\">\n",
       "<title>G</title>\n",
       "<polygon fill=\"#ffffff\" points=\"-4,4 -4,-625 225,-625 225,4 -4,4\" stroke=\"transparent\"/>\n",
       "<!-- 140140533204976 -->\n",
       "<g class=\"node\" id=\"node1\">\n",
       "<title>140140533204976</title>\n",
       "<polygon fill=\"none\" points=\"51.5,-511.5 51.5,-547.5 169.5,-547.5 169.5,-511.5 51.5,-511.5\" stroke=\"#000000\"/>\n",
       "<text fill=\"#000000\" font-family=\"Times,serif\" font-size=\"14.00\" text-anchor=\"middle\" x=\"110.5\" y=\"-525.8\">conv2d: Conv2D</text>\n",
       "</g>\n",
       "<!-- 140140533206040 -->\n",
       "<g class=\"node\" id=\"node2\">\n",
       "<title>140140533206040</title>\n",
       "<polygon fill=\"none\" points=\"7.5,-438.5 7.5,-474.5 213.5,-474.5 213.5,-438.5 7.5,-438.5\" stroke=\"#000000\"/>\n",
       "<text fill=\"#000000\" font-family=\"Times,serif\" font-size=\"14.00\" text-anchor=\"middle\" x=\"110.5\" y=\"-452.8\">max_pooling2d: MaxPooling2D</text>\n",
       "</g>\n",
       "<!-- 140140533204976&#45;&gt;140140533206040 -->\n",
       "<g class=\"edge\" id=\"edge2\">\n",
       "<title>140140533204976-&gt;140140533206040</title>\n",
       "<path d=\"M110.5,-511.4551C110.5,-503.3828 110.5,-493.6764 110.5,-484.6817\" fill=\"none\" stroke=\"#000000\"/>\n",
       "<polygon fill=\"#000000\" points=\"114.0001,-484.5903 110.5,-474.5904 107.0001,-484.5904 114.0001,-484.5903\" stroke=\"#000000\"/>\n",
       "</g>\n",
       "<!-- 140140533206824 -->\n",
       "<g class=\"node\" id=\"node3\">\n",
       "<title>140140533206824</title>\n",
       "<polygon fill=\"none\" points=\"44,-365.5 44,-401.5 177,-401.5 177,-365.5 44,-365.5\" stroke=\"#000000\"/>\n",
       "<text fill=\"#000000\" font-family=\"Times,serif\" font-size=\"14.00\" text-anchor=\"middle\" x=\"110.5\" y=\"-379.8\">conv2d_1: Conv2D</text>\n",
       "</g>\n",
       "<!-- 140140533206040&#45;&gt;140140533206824 -->\n",
       "<g class=\"edge\" id=\"edge3\">\n",
       "<title>140140533206040-&gt;140140533206824</title>\n",
       "<path d=\"M110.5,-438.4551C110.5,-430.3828 110.5,-420.6764 110.5,-411.6817\" fill=\"none\" stroke=\"#000000\"/>\n",
       "<polygon fill=\"#000000\" points=\"114.0001,-411.5903 110.5,-401.5904 107.0001,-411.5904 114.0001,-411.5903\" stroke=\"#000000\"/>\n",
       "</g>\n",
       "<!-- 140140490822656 -->\n",
       "<g class=\"node\" id=\"node4\">\n",
       "<title>140140490822656</title>\n",
       "<polygon fill=\"none\" points=\"0,-292.5 0,-328.5 221,-328.5 221,-292.5 0,-292.5\" stroke=\"#000000\"/>\n",
       "<text fill=\"#000000\" font-family=\"Times,serif\" font-size=\"14.00\" text-anchor=\"middle\" x=\"110.5\" y=\"-306.8\">max_pooling2d_1: MaxPooling2D</text>\n",
       "</g>\n",
       "<!-- 140140533206824&#45;&gt;140140490822656 -->\n",
       "<g class=\"edge\" id=\"edge4\">\n",
       "<title>140140533206824-&gt;140140490822656</title>\n",
       "<path d=\"M110.5,-365.4551C110.5,-357.3828 110.5,-347.6764 110.5,-338.6817\" fill=\"none\" stroke=\"#000000\"/>\n",
       "<polygon fill=\"#000000\" points=\"114.0001,-338.5903 110.5,-328.5904 107.0001,-338.5904 114.0001,-338.5903\" stroke=\"#000000\"/>\n",
       "</g>\n",
       "<!-- 140140490976336 -->\n",
       "<g class=\"node\" id=\"node5\">\n",
       "<title>140140490976336</title>\n",
       "<polygon fill=\"none\" points=\"61.5,-219.5 61.5,-255.5 159.5,-255.5 159.5,-219.5 61.5,-219.5\" stroke=\"#000000\"/>\n",
       "<text fill=\"#000000\" font-family=\"Times,serif\" font-size=\"14.00\" text-anchor=\"middle\" x=\"110.5\" y=\"-233.8\">flatten: Flatten</text>\n",
       "</g>\n",
       "<!-- 140140490822656&#45;&gt;140140490976336 -->\n",
       "<g class=\"edge\" id=\"edge5\">\n",
       "<title>140140490822656-&gt;140140490976336</title>\n",
       "<path d=\"M110.5,-292.4551C110.5,-284.3828 110.5,-274.6764 110.5,-265.6817\" fill=\"none\" stroke=\"#000000\"/>\n",
       "<polygon fill=\"#000000\" points=\"114.0001,-265.5903 110.5,-255.5904 107.0001,-265.5904 114.0001,-265.5903\" stroke=\"#000000\"/>\n",
       "</g>\n",
       "<!-- 140140482286984 -->\n",
       "<g class=\"node\" id=\"node6\">\n",
       "<title>140140482286984</title>\n",
       "<polygon fill=\"none\" points=\"64.5,-146.5 64.5,-182.5 156.5,-182.5 156.5,-146.5 64.5,-146.5\" stroke=\"#000000\"/>\n",
       "<text fill=\"#000000\" font-family=\"Times,serif\" font-size=\"14.00\" text-anchor=\"middle\" x=\"110.5\" y=\"-160.8\">dense: Dense</text>\n",
       "</g>\n",
       "<!-- 140140490976336&#45;&gt;140140482286984 -->\n",
       "<g class=\"edge\" id=\"edge6\">\n",
       "<title>140140490976336-&gt;140140482286984</title>\n",
       "<path d=\"M110.5,-219.4551C110.5,-211.3828 110.5,-201.6764 110.5,-192.6817\" fill=\"none\" stroke=\"#000000\"/>\n",
       "<polygon fill=\"#000000\" points=\"114.0001,-192.5903 110.5,-182.5904 107.0001,-192.5904 114.0001,-192.5903\" stroke=\"#000000\"/>\n",
       "</g>\n",
       "<!-- 140140482286872 -->\n",
       "<g class=\"node\" id=\"node7\">\n",
       "<title>140140482286872</title>\n",
       "<polygon fill=\"none\" points=\"57,-73.5 57,-109.5 164,-109.5 164,-73.5 57,-73.5\" stroke=\"#000000\"/>\n",
       "<text fill=\"#000000\" font-family=\"Times,serif\" font-size=\"14.00\" text-anchor=\"middle\" x=\"110.5\" y=\"-87.8\">dense_1: Dense</text>\n",
       "</g>\n",
       "<!-- 140140482286984&#45;&gt;140140482286872 -->\n",
       "<g class=\"edge\" id=\"edge7\">\n",
       "<title>140140482286984-&gt;140140482286872</title>\n",
       "<path d=\"M110.5,-146.4551C110.5,-138.3828 110.5,-128.6764 110.5,-119.6817\" fill=\"none\" stroke=\"#000000\"/>\n",
       "<polygon fill=\"#000000\" points=\"114.0001,-119.5903 110.5,-109.5904 107.0001,-119.5904 114.0001,-119.5903\" stroke=\"#000000\"/>\n",
       "</g>\n",
       "<!-- 140140481981128 -->\n",
       "<g class=\"node\" id=\"node8\">\n",
       "<title>140140481981128</title>\n",
       "<polygon fill=\"none\" points=\"57,-.5 57,-36.5 164,-36.5 164,-.5 57,-.5\" stroke=\"#000000\"/>\n",
       "<text fill=\"#000000\" font-family=\"Times,serif\" font-size=\"14.00\" text-anchor=\"middle\" x=\"110.5\" y=\"-14.8\">dense_2: Dense</text>\n",
       "</g>\n",
       "<!-- 140140482286872&#45;&gt;140140481981128 -->\n",
       "<g class=\"edge\" id=\"edge8\">\n",
       "<title>140140482286872-&gt;140140481981128</title>\n",
       "<path d=\"M110.5,-73.4551C110.5,-65.3828 110.5,-55.6764 110.5,-46.6817\" fill=\"none\" stroke=\"#000000\"/>\n",
       "<polygon fill=\"#000000\" points=\"114.0001,-46.5903 110.5,-36.5904 107.0001,-46.5904 114.0001,-46.5903\" stroke=\"#000000\"/>\n",
       "</g>\n",
       "<!-- 140140533206376 -->\n",
       "<g class=\"node\" id=\"node9\">\n",
       "<title>140140533206376</title>\n",
       "<polygon fill=\"none\" points=\"46,-584.5 46,-620.5 175,-620.5 175,-584.5 46,-584.5\" stroke=\"#000000\"/>\n",
       "<text fill=\"#000000\" font-family=\"Times,serif\" font-size=\"14.00\" text-anchor=\"middle\" x=\"110.5\" y=\"-598.8\">140140533206376</text>\n",
       "</g>\n",
       "<!-- 140140533206376&#45;&gt;140140533204976 -->\n",
       "<g class=\"edge\" id=\"edge1\">\n",
       "<title>140140533206376-&gt;140140533204976</title>\n",
       "<path d=\"M110.5,-584.4551C110.5,-576.3828 110.5,-566.6764 110.5,-557.6817\" fill=\"none\" stroke=\"#000000\"/>\n",
       "<polygon fill=\"#000000\" points=\"114.0001,-557.5903 110.5,-547.5904 107.0001,-557.5904 114.0001,-557.5903\" stroke=\"#000000\"/>\n",
       "</g>\n",
       "</g>\n",
       "</svg>"
      ],
      "text/plain": [
       "<IPython.core.display.SVG object>"
      ]
     },
     "execution_count": 8,
     "metadata": {},
     "output_type": "execute_result"
    }
   ],
   "source": [
    "SVG(model_to_dot(model).create(prog='dot', format='svg'))"
   ]
  },
  {
   "cell_type": "code",
   "execution_count": 9,
   "metadata": {},
   "outputs": [
    {
     "name": "stdout",
     "output_type": "stream",
     "text": [
      "Train on 40000 samples, validate on 10000 samples\n",
      "WARNING:tensorflow:From /opt/conda/lib/python3.7/site-packages/tensorflow/python/ops/math_ops.py:3066: to_int32 (from tensorflow.python.ops.math_ops) is deprecated and will be removed in a future version.\n",
      "Instructions for updating:\n",
      "Use tf.cast instead.\n",
      "Epoch 1/100\n",
      "40000/40000 [==============================] - 31s 769us/sample - loss: 1.7688 - acc: 0.3582 - val_loss: 1.5162 - val_acc: 0.4487\n",
      "Epoch 2/100\n",
      "40000/40000 [==============================] - 32s 795us/sample - loss: 1.4503 - acc: 0.4761 - val_loss: 1.4148 - val_acc: 0.4793\n",
      "Epoch 3/100\n",
      "40000/40000 [==============================] - 27s 670us/sample - loss: 1.3442 - acc: 0.5160 - val_loss: 1.3650 - val_acc: 0.5137\n",
      "Epoch 4/100\n",
      "40000/40000 [==============================] - 30s 738us/sample - loss: 1.2621 - acc: 0.5500 - val_loss: 1.2893 - val_acc: 0.5463\n",
      "Epoch 5/100\n",
      "40000/40000 [==============================] - 44s 1ms/sample - loss: 1.2020 - acc: 0.5707 - val_loss: 1.2570 - val_acc: 0.5608\n",
      "Epoch 6/100\n",
      "40000/40000 [==============================] - 47s 1ms/sample - loss: 1.1536 - acc: 0.5907 - val_loss: 1.2801 - val_acc: 0.5514\n",
      "Epoch 00006: early stopping\n"
     ]
    },
    {
     "data": {
      "text/plain": [
       "<tensorflow.python.keras.callbacks.History at 0x7f74ff825550>"
      ]
     },
     "execution_count": 9,
     "metadata": {},
     "output_type": "execute_result"
    }
   ],
   "source": [
    "early_stopping = EarlyStopping(patience=1, verbose=1)\n",
    "model.fit(x=x_train, y=y_train, batch_size=128, epochs=100, verbose=1,\n",
    "          validation_data=(x_valid, y_valid), callbacks=[early_stopping])"
   ]
  },
  {
   "cell_type": "code",
   "execution_count": 10,
   "metadata": {},
   "outputs": [
    {
     "name": "stdout",
     "output_type": "stream",
     "text": [
      "Test loss:  1.265980617904663\n",
      "Test accuracy:  0.553\n"
     ]
    }
   ],
   "source": [
    "# 性能評価\n",
    "score = model.evaluate(x_test, y_test, verbose=0)\n",
    "print('Test loss: ', score[0])\n",
    "print('Test accuracy: ', score[1])"
   ]
  },
  {
   "cell_type": "markdown",
   "metadata": {},
   "source": [
    "**Observation**\n",
    "- そこまで性能が高くない"
   ]
  }
 ],
 "metadata": {
  "kernelspec": {
   "display_name": "Python 3",
   "language": "python",
   "name": "python3"
  },
  "language_info": {
   "codemirror_mode": {
    "name": "ipython",
    "version": 3
   },
   "file_extension": ".py",
   "mimetype": "text/x-python",
   "name": "python",
   "nbconvert_exporter": "python",
   "pygments_lexer": "ipython3",
   "version": "3.7.3"
  },
  "toc": {
   "base_numbering": 1,
   "nav_menu": {},
   "number_sections": true,
   "sideBar": true,
   "skip_h1_title": false,
   "title_cell": "Table of Contents",
   "title_sidebar": "Contents",
   "toc_cell": false,
   "toc_position": {},
   "toc_section_display": true,
   "toc_window_display": true
  }
 },
 "nbformat": 4,
 "nbformat_minor": 2
}
