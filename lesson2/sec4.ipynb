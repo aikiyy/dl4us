{
 "cells": [
  {
   "cell_type": "code",
   "execution_count": 1,
   "metadata": {},
   "outputs": [],
   "source": [
    "import os\n",
    "\n",
    "import tensorflow.keras as keras\n",
    "import numpy as np\n",
    "import matplotlib.pyplot as plt\n",
    "\n",
    "from tensorflow.keras.layers import Dense, Conv2D, MaxPooling2D, Flatten, Input, Activation, add, Add, Dropout, BatchNormalization\n",
    "from tensorflow.keras.callbacks import EarlyStopping\n",
    "from tensorflow.keras.models import Sequential, Model\n",
    "from tensorflow.keras.datasets import cifar10\n",
    "from tensorflow.keras.datasets import fashion_mnist\n",
    "from tensorflow.keras.utils import to_categorical\n",
    "from sklearn.model_selection import train_test_split\n",
    "\n",
    "from IPython.display import SVG\n",
    "from tensorflow.python.keras.utils.vis_utils import model_to_dot\n",
    "from tensorflow.keras.preprocessing.image import ImageDataGenerator\n",
    "\n",
    "random_state = 42"
   ]
  },
  {
   "cell_type": "markdown",
   "metadata": {},
   "source": [
    "# CIFAR10のデータをCNNでクラス分類②"
   ]
  },
  {
   "cell_type": "code",
   "execution_count": 2,
   "metadata": {},
   "outputs": [],
   "source": [
    "(x_train, y_train), (x_test, y_test) = cifar10.load_data()\n",
    "\n",
    "x_train = x_train.astype('float32') / 255\n",
    "y_train = np.eye(10)[y_train.astype('int32').flatten()]\n",
    "\n",
    "x_test = x_test.astype('float32') / 255\n",
    "y_test = np.eye(10)[y_test.astype('int32').flatten()]\n",
    "\n",
    "x_train, x_valid, y_train, y_valid = train_test_split(\n",
    "    x_train, y_train, test_size=10000)"
   ]
  },
  {
   "cell_type": "code",
   "execution_count": 3,
   "metadata": {},
   "outputs": [
    {
     "name": "stdout",
     "output_type": "stream",
     "text": [
      "WARNING:tensorflow:From /opt/conda/lib/python3.7/site-packages/tensorflow/python/ops/resource_variable_ops.py:435: colocate_with (from tensorflow.python.framework.ops) is deprecated and will be removed in a future version.\n",
      "Instructions for updating:\n",
      "Colocations handled automatically by placer.\n"
     ]
    }
   ],
   "source": [
    "model = Sequential()\n",
    "\n",
    "model.add(Conv2D(6, kernel_size=(5, 5), activation='relu',\n",
    "                 kernel_initializer='he_normal', input_shape=(32, 32, 3)))  # 32x32x3 -> 28x28x6\n",
    "model.add(MaxPooling2D(pool_size=(2, 2)))  # 28x28x6 -> 14x14x6\n",
    "model.add(Conv2D(16, kernel_size=(5, 5), activation='relu',\n",
    "                 kernel_initializer='he_normal'))  # 14x14x6 -> 10x10x16\n",
    "model.add(MaxPooling2D(pool_size=(2, 2)))  # 10x10x16 -> 5x5x16\n",
    "\n",
    "model.add(Flatten())  # 5x5x16 -> 400\n",
    "model.add(Dense(120, activation='relu',\n",
    "                kernel_initializer='he_normal'))  # 400 ->120\n",
    "model.add(Dense(84, activation='relu', kernel_initializer='he_normal'))  # 120 ->84\n",
    "model.add(Dense(10, activation='softmax'))  # 84 ->10\n",
    "\n",
    "model.compile(\n",
    "    loss=keras.losses.categorical_crossentropy,\n",
    "    optimizer='adam',\n",
    "    metrics=['accuracy']\n",
    ")"
   ]
  },
  {
   "cell_type": "code",
   "execution_count": 4,
   "metadata": {},
   "outputs": [],
   "source": [
    "datagen = ImageDataGenerator(\n",
    "    width_shift_range=0.2,  # 3.1.1 左右にずらす\n",
    "    height_shift_range=0.2,  # 3.1.2 上下にずらす\n",
    "    horizontal_flip=True,  # 3.1.3 左右反転\n",
    "    # 3.2.1 Global Contrast Normalization (GCN) (Falseに設定しているのでここでは使用していない)\n",
    "    samplewise_center=False,\n",
    "    samplewise_std_normalization=False,\n",
    "    zca_whitening=False)  # 3.2.2 Zero-phase Component Analysis (ZCA) Whitening (Falseに設定しているのでここでは使用していない)"
   ]
  },
  {
   "cell_type": "code",
   "execution_count": 6,
   "metadata": {},
   "outputs": [
    {
     "name": "stdout",
     "output_type": "stream",
     "text": [
      "WARNING:tensorflow:From /opt/conda/lib/python3.7/site-packages/tensorflow/python/ops/math_ops.py:3066: to_int32 (from tensorflow.python.ops.math_ops) is deprecated and will be removed in a future version.\n",
      "Instructions for updating:\n",
      "Use tf.cast instead.\n",
      "Epoch 1/30\n",
      "10000/10000 [==============================] - 4s 378us/sample - loss: 1.6114 - acc: 0.4019\n",
      "400/400 [==============================] - 39s 98ms/step - loss: 1.8749 - acc: 0.3036 - val_loss: 1.6114 - val_acc: 0.4019\n",
      "Epoch 2/30\n",
      "10000/10000 [==============================] - 4s 373us/sample - loss: 1.4939 - acc: 0.4537\n",
      "400/400 [==============================] - 38s 95ms/step - loss: 1.6387 - acc: 0.3985 - val_loss: 1.4939 - val_acc: 0.4537\n",
      "Epoch 3/30\n",
      "10000/10000 [==============================] - 5s 492us/sample - loss: 1.4061 - acc: 0.4891\n",
      "400/400 [==============================] - 43s 108ms/step - loss: 1.5759 - acc: 0.4226 - val_loss: 1.4061 - val_acc: 0.4891\n",
      "Epoch 4/30\n",
      "10000/10000 [==============================] - 4s 396us/sample - loss: 1.4183 - acc: 0.4918\n",
      "400/400 [==============================] - 42s 106ms/step - loss: 1.5221 - acc: 0.4464 - val_loss: 1.4183 - val_acc: 0.4918\n",
      "Epoch 5/30\n",
      "10000/10000 [==============================] - 4s 416us/sample - loss: 1.4052 - acc: 0.4927\n",
      "400/400 [==============================] - 38s 96ms/step - loss: 1.4801 - acc: 0.4645 - val_loss: 1.4052 - val_acc: 0.4927\n",
      "Epoch 6/30\n",
      "10000/10000 [==============================] - 5s 479us/sample - loss: 1.3077 - acc: 0.5246\n",
      "400/400 [==============================] - 45s 114ms/step - loss: 1.4381 - acc: 0.4778 - val_loss: 1.3077 - val_acc: 0.5246\n",
      "Epoch 7/30\n",
      "10000/10000 [==============================] - 4s 410us/sample - loss: 1.2960 - acc: 0.5415\n",
      "400/400 [==============================] - 48s 120ms/step - loss: 1.4060 - acc: 0.4893 - val_loss: 1.2960 - val_acc: 0.5415\n",
      "Epoch 8/30\n",
      "10000/10000 [==============================] - 4s 421us/sample - loss: 1.3119 - acc: 0.5227\n",
      "400/400 [==============================] - 46s 115ms/step - loss: 1.3858 - acc: 0.4972 - val_loss: 1.3119 - val_acc: 0.5227\n",
      "Epoch 9/30\n",
      "10000/10000 [==============================] - 6s 633us/sample - loss: 1.2715 - acc: 0.5396\n",
      "400/400 [==============================] - 44s 111ms/step - loss: 1.3751 - acc: 0.5019 - val_loss: 1.2715 - val_acc: 0.5396\n",
      "Epoch 10/30\n",
      "10000/10000 [==============================] - 8s 761us/sample - loss: 1.2468 - acc: 0.5542\n",
      "400/400 [==============================] - 52s 130ms/step - loss: 1.3526 - acc: 0.5123 - val_loss: 1.2468 - val_acc: 0.5542\n",
      "Epoch 11/30\n",
      "10000/10000 [==============================] - 4s 363us/sample - loss: 1.2921 - acc: 0.5357\n",
      "400/400 [==============================] - 40s 100ms/step - loss: 1.3317 - acc: 0.5203 - val_loss: 1.2921 - val_acc: 0.5357\n",
      "Epoch 12/30\n",
      "10000/10000 [==============================] - 5s 489us/sample - loss: 1.1893 - acc: 0.5756\n",
      "400/400 [==============================] - 44s 110ms/step - loss: 1.3230 - acc: 0.5217 - val_loss: 1.1893 - val_acc: 0.5756\n",
      "Epoch 13/30\n",
      "10000/10000 [==============================] - 4s 399us/sample - loss: 1.2021 - acc: 0.5679\n",
      "400/400 [==============================] - 40s 101ms/step - loss: 1.3174 - acc: 0.5255 - val_loss: 1.2021 - val_acc: 0.5679\n",
      "Epoch 14/30\n",
      "10000/10000 [==============================] - 6s 602us/sample - loss: 1.2529 - acc: 0.5525\n",
      "400/400 [==============================] - 42s 106ms/step - loss: 1.3009 - acc: 0.5308 - val_loss: 1.2529 - val_acc: 0.5525\n",
      "Epoch 15/30\n",
      "10000/10000 [==============================] - 5s 469us/sample - loss: 1.1870 - acc: 0.5696\n",
      "400/400 [==============================] - 44s 111ms/step - loss: 1.2899 - acc: 0.5338 - val_loss: 1.1870 - val_acc: 0.5696\n",
      "Epoch 16/30\n",
      "10000/10000 [==============================] - 4s 399us/sample - loss: 1.1596 - acc: 0.5861\n",
      "400/400 [==============================] - 42s 105ms/step - loss: 1.2792 - acc: 0.5413 - val_loss: 1.1596 - val_acc: 0.5861\n",
      "Epoch 17/30\n",
      "10000/10000 [==============================] - 4s 391us/sample - loss: 1.1620 - acc: 0.5872\n",
      "400/400 [==============================] - 41s 101ms/step - loss: 1.2774 - acc: 0.5397 - val_loss: 1.1620 - val_acc: 0.5872\n",
      "Epoch 18/30\n",
      "10000/10000 [==============================] - 4s 396us/sample - loss: 1.1652 - acc: 0.5811\n",
      "400/400 [==============================] - 40s 101ms/step - loss: 1.2560 - acc: 0.5465 - val_loss: 1.1652 - val_acc: 0.5811\n",
      "Epoch 19/30\n",
      "10000/10000 [==============================] - 4s 403us/sample - loss: 1.2110 - acc: 0.5683\n",
      "400/400 [==============================] - 43s 107ms/step - loss: 1.2498 - acc: 0.5484 - val_loss: 1.2110 - val_acc: 0.5683\n",
      "Epoch 20/30\n",
      "10000/10000 [==============================] - 4s 403us/sample - loss: 1.1788 - acc: 0.5806\n",
      "400/400 [==============================] - 41s 103ms/step - loss: 1.2438 - acc: 0.5537 - val_loss: 1.1788 - val_acc: 0.5806\n",
      "Epoch 21/30\n",
      "10000/10000 [==============================] - 7s 716us/sample - loss: 1.1392 - acc: 0.5929\n",
      "400/400 [==============================] - 49s 122ms/step - loss: 1.2308 - acc: 0.5566 - val_loss: 1.1392 - val_acc: 0.5929\n",
      "Epoch 22/30\n",
      "10000/10000 [==============================] - 6s 598us/sample - loss: 1.1899 - acc: 0.5754\n",
      "400/400 [==============================] - 56s 140ms/step - loss: 1.2241 - acc: 0.5579 - val_loss: 1.1899 - val_acc: 0.5754\n",
      "Epoch 23/30\n",
      "10000/10000 [==============================] - 6s 580us/sample - loss: 1.1072 - acc: 0.6037\n",
      "400/400 [==============================] - 51s 128ms/step - loss: 1.2341 - acc: 0.5574 - val_loss: 1.1072 - val_acc: 0.6037\n",
      "Epoch 24/30\n",
      "10000/10000 [==============================] - 8s 787us/sample - loss: 1.2283 - acc: 0.5685\n",
      "400/400 [==============================] - 48s 121ms/step - loss: 1.2203 - acc: 0.5653 - val_loss: 1.2283 - val_acc: 0.5685\n",
      "Epoch 25/30\n",
      "10000/10000 [==============================] - 5s 496us/sample - loss: 1.1439 - acc: 0.5941\n",
      "400/400 [==============================] - 41s 103ms/step - loss: 1.2158 - acc: 0.5640 - val_loss: 1.1439 - val_acc: 0.5941\n",
      "Epoch 26/30\n",
      "10000/10000 [==============================] - 4s 409us/sample - loss: 1.0904 - acc: 0.6083\n",
      "400/400 [==============================] - 44s 111ms/step - loss: 1.2033 - acc: 0.5688 - val_loss: 1.0904 - val_acc: 0.6083\n",
      "Epoch 27/30\n",
      "10000/10000 [==============================] - 4s 404us/sample - loss: 1.0688 - acc: 0.6193\n",
      "400/400 [==============================] - 40s 101ms/step - loss: 1.1931 - acc: 0.5702 - val_loss: 1.0688 - val_acc: 0.6193\n",
      "Epoch 28/30\n",
      "10000/10000 [==============================] - 9s 854us/sample - loss: 1.1455 - acc: 0.5873\n",
      "400/400 [==============================] - 46s 115ms/step - loss: 1.1995 - acc: 0.5695 - val_loss: 1.1455 - val_acc: 0.5873\n",
      "Epoch 29/30\n",
      "10000/10000 [==============================] - 4s 408us/sample - loss: 1.1147 - acc: 0.6036\n",
      "400/400 [==============================] - 40s 101ms/step - loss: 1.1902 - acc: 0.5755 - val_loss: 1.1147 - val_acc: 0.6036\n",
      "Epoch 30/30\n",
      "10000/10000 [==============================] - 4s 418us/sample - loss: 1.2085 - acc: 0.5743\n",
      "400/400 [==============================] - 44s 109ms/step - loss: 1.1838 - acc: 0.5758 - val_loss: 1.2085 - val_acc: 0.5743\n"
     ]
    },
    {
     "data": {
      "text/plain": [
       "<tensorflow.python.keras.callbacks.History at 0x7fa257ee7550>"
      ]
     },
     "execution_count": 6,
     "metadata": {},
     "output_type": "execute_result"
    }
   ],
   "source": [
    "model.fit_generator(datagen.flow(x_train, y_train, batch_size=100),\n",
    "                    steps_per_epoch=x_train.shape[0] // 100, epochs=30, validation_data=(x_valid, y_valid))"
   ]
  },
  {
   "cell_type": "code",
   "execution_count": 7,
   "metadata": {},
   "outputs": [
    {
     "name": "stdout",
     "output_type": "stream",
     "text": [
      "Test loss:  1.2251188915252686\n",
      "Test accuracy:  0.5684\n"
     ]
    }
   ],
   "source": [
    "# 性能評価\n",
    "score = model.evaluate(x_test, y_test, verbose=0)\n",
    "print('Test loss: ', score[0])\n",
    "print('Test accuracy: ', score[1])"
   ]
  },
  {
   "cell_type": "markdown",
   "metadata": {},
   "source": [
    "**Observation**\n",
    "- sec2でのデータの水増しを行なっていない場合の性能が以下\n",
    "    - Test loss:  1.265980617904663\n",
    "    - Test accuracy:  0.553\n",
    "- それよりは多少向上"
   ]
  }
 ],
 "metadata": {
  "kernelspec": {
   "display_name": "Python 3",
   "language": "python",
   "name": "python3"
  },
  "language_info": {
   "codemirror_mode": {
    "name": "ipython",
    "version": 3
   },
   "file_extension": ".py",
   "mimetype": "text/x-python",
   "name": "python",
   "nbconvert_exporter": "python",
   "pygments_lexer": "ipython3",
   "version": "3.7.3"
  },
  "toc": {
   "base_numbering": 1,
   "nav_menu": {},
   "number_sections": true,
   "sideBar": true,
   "skip_h1_title": false,
   "title_cell": "Table of Contents",
   "title_sidebar": "Contents",
   "toc_cell": false,
   "toc_position": {},
   "toc_section_display": true,
   "toc_window_display": false
  }
 },
 "nbformat": 4,
 "nbformat_minor": 2
}
